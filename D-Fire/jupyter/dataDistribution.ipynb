{
 "cells": [
  {
   "cell_type": "code",
   "execution_count": 5,
   "id": "576862c1-976b-48de-84d5-b18313e30e00",
   "metadata": {},
   "outputs": [],
   "source": [
    "import os\n",
    "import xml.etree.ElementTree as ET "
   ]
  },
  {
   "cell_type": "code",
   "execution_count": 4,
   "id": "62b66868-e9aa-41cc-aaa7-cbb24c1b2f8a",
   "metadata": {},
   "outputs": [
    {
     "name": "stdout",
     "output_type": "stream",
     "text": [
      "11689\n"
     ]
    }
   ],
   "source": [
    "annotationPath = '../D-Fire/Annotations/'\n",
    "\n",
    "xmlList = os.listdir(annotationPath)\n",
    "print(len(xmlList))"
   ]
  },
  {
   "cell_type": "code",
   "execution_count": 10,
   "id": "d2be03dc-73da-452f-aaf9-d4eb140b207c",
   "metadata": {},
   "outputs": [],
   "source": [
    "fireCounter = 0\n",
    "smokeCounter = 0\n",
    "\n",
    "for xml in xmlList:\n",
    "    xmlPath = os.path.join(annotationPath,xml)\n",
    "    tree = ET.parse(xmlPath)\n",
    "    root = tree.getroot()\n",
    "    objects = root.findall('object')\n",
    "    for object in objects:\n",
    "        if object.find('name').text == 'fire':\n",
    "            fireCounter = fireCounter + 1\n",
    "        else:\n",
    "            smokeCounter = smokeCounter + 1"
   ]
  },
  {
   "cell_type": "code",
   "execution_count": 11,
   "id": "d87d8dbb-3b7c-4f55-82a3-f360d434277e",
   "metadata": {},
   "outputs": [
    {
     "name": "stdout",
     "output_type": "stream",
     "text": [
      "14685\n"
     ]
    }
   ],
   "source": [
    "print(fireCounter)"
   ]
  },
  {
   "cell_type": "code",
   "execution_count": 12,
   "id": "6f431a30-07ac-478a-84c6-daa24734e601",
   "metadata": {},
   "outputs": [
    {
     "name": "stdout",
     "output_type": "stream",
     "text": [
      "11854\n"
     ]
    }
   ],
   "source": [
    "print(smokeCounter)"
   ]
  }
 ],
 "metadata": {
  "kernelspec": {
   "display_name": "pytorch2.2.1",
   "language": "python",
   "name": "jupyterkernelfile_pytorch2.2.1"
  },
  "language_info": {
   "codemirror_mode": {
    "name": "ipython",
    "version": 3
   },
   "file_extension": ".py",
   "mimetype": "text/x-python",
   "name": "python",
   "nbconvert_exporter": "python",
   "pygments_lexer": "ipython3",
   "version": "3.10.13"
  }
 },
 "nbformat": 4,
 "nbformat_minor": 5
}
