{
 "cells": [
  {
   "cell_type": "code",
   "execution_count": 1,
   "id": "3f6703b4-9a83-4b71-9e8f-3aff56cd0a1a",
   "metadata": {},
   "outputs": [],
   "source": [
    "import os\n",
    "import numpy as np\n",
    "import matplotlib.pyplot as plt\n",
    "from tqdm.notebook import tqdm \n",
    "import xml.etree.ElementTree as ET\n",
    "import cv2\n",
    "import random\n",
    "\n",
    "\n",
    "from functions import checkLabel\n",
    "from functions import checkCoordinate\n",
    "from functions import yolo_to_pascal\n",
    "from xmlMaker import init_xml\n",
    "from xmlMaker import add_object\n",
    "from xmlMaker import prettyXml\n",
    "from xmlMaker import bbox_resize"
   ]
  },
  {
   "cell_type": "markdown",
   "id": "e6b3e0e8-8b36-4395-805d-e7c2d5751b76",
   "metadata": {},
   "source": [
    "# find image set with label 0 in train and test set.\n",
    "\n",
    "save result in test_0_list.txt and train_0_list.txt"
   ]
  },
  {
   "cell_type": "raw",
   "id": "81fe609e-55cf-4011-a4b2-d8e4361b74ef",
   "metadata": {},
   "source": [
    "floder structure:  \n",
    "\n",
    "|---D-Fire\n",
    "    |---D-Fire\n",
    "    |   |---test\n",
    "    |   |   |---images(*.jpg)\n",
    "    |   |   |---labels(*.txt)\n",
    "    |   |---train\n",
    "    |   |   |---images(*.jpg) \n",
    "    |   |   |---labels(*.txt)\n",
    "    |   |---test_1_list.txt\n",
    "    |   |---train_1_list.txt\n",
    "    |---Tools"
   ]
  },
  {
   "cell_type": "code",
   "execution_count": 2,
   "id": "ddbbb662-2a1f-428d-bbf4-53ffc3d42190",
   "metadata": {},
   "outputs": [
    {
     "data": {
      "application/vnd.jupyter.widget-view+json": {
       "model_id": "b2dab790cfc043a38e8dd6046d6b22f1",
       "version_major": 2,
       "version_minor": 0
      },
      "text/plain": [
       "  0%|          | 0/2 [00:00<?, ?it/s]"
      ]
     },
     "metadata": {},
     "output_type": "display_data"
    },
    {
     "data": {
      "application/vnd.jupyter.widget-view+json": {
       "model_id": "54fbcc8f60fe46b29f91426686fc74b9",
       "version_major": 2,
       "version_minor": 0
      },
      "text/plain": [
       "  0%|          | 0/4306 [00:00<?, ?it/s]"
      ]
     },
     "metadata": {},
     "output_type": "display_data"
    },
    {
     "data": {
      "application/vnd.jupyter.widget-view+json": {
       "model_id": "40b6f7ae881f4e758a90ad3e980e2b84",
       "version_major": 2,
       "version_minor": 0
      },
      "text/plain": [
       "  0%|          | 0/17221 [00:00<?, ?it/s]"
      ]
     },
     "metadata": {},
     "output_type": "display_data"
    }
   ],
   "source": [
    "folderName = ['test', 'train']\n",
    "datasetPath = '../D-Fire/'\n",
    "for name in tqdm(folderName):\n",
    "    tmpeList = []\n",
    "    labelsPath = os.path.join(datasetPath, '{}/labels/'.format(name))\n",
    "    labelList = os.listdir(labelsPath)\n",
    "    for label in tqdm(labelList):\n",
    "        labelPath = os.path.join(labelsPath, label)\n",
    "        if checkLabel(labelPath) is not None:\n",
    "            tmpeList.append(checkLabel(labelPath))\n",
    "    savePath = os.path.join(datasetPath, '{}_0_list.txt'.format(name))\n",
    "    with open(savePath, 'w') as f:\n",
    "        for image in tmpeList:\n",
    "            f.write ('{}\\n'.format(image))"
   ]
  },
  {
   "cell_type": "markdown",
   "id": "3f689a90-e8f3-48f9-83fb-7e0a18aed808",
   "metadata": {},
   "source": [
    "# check label\n",
    "\n",
    "check wether the label is right  \n",
    "there is no output if all labels are right"
   ]
  },
  {
   "cell_type": "raw",
   "id": "ec2ff67b-cc61-4ec9-ac53-c4c1b89b5ea5",
   "metadata": {},
   "source": [
    "floder structure:  \n",
    "\n",
    "|---D-Fire\n",
    "    |---D-Fire\n",
    "    |   |---test\n",
    "    |   |   |---images(*.jpg)\n",
    "    |   |   |---labels(*.txt)\n",
    "    |   |---train\n",
    "    |   |   |---images(*.jpg) \n",
    "    |   |   |---labels(*.txt)\n",
    "    |   |---test_1_list.txt\n",
    "    |   |---train_1_list.txt\n",
    "    |   |---test_0_list.txt\n",
    "    |   |---train_0_list.txt\n",
    "    |---Tools"
   ]
  },
  {
   "cell_type": "code",
   "execution_count": 4,
   "id": "6398f6d7-c1d9-4f57-a5dd-38e36c178a7e",
   "metadata": {
    "scrolled": true
   },
   "outputs": [
    {
     "data": {
      "application/vnd.jupyter.widget-view+json": {
       "model_id": "9bb2222163644cdc89a27e88ec4454e0",
       "version_major": 2,
       "version_minor": 0
      },
      "text/plain": [
       "  0%|          | 0/2 [00:00<?, ?it/s]"
      ]
     },
     "metadata": {},
     "output_type": "display_data"
    },
    {
     "data": {
      "application/vnd.jupyter.widget-view+json": {
       "model_id": "0dcc217f6d214b599b7de27252ffc241",
       "version_major": 2,
       "version_minor": 0
      },
      "text/plain": [
       "  0%|          | 0/2081 [00:00<?, ?it/s]"
      ]
     },
     "metadata": {},
     "output_type": "display_data"
    },
    {
     "data": {
      "application/vnd.jupyter.widget-view+json": {
       "model_id": "957ec4a4aecc4d94a62168655bf1bbd9",
       "version_major": 2,
       "version_minor": 0
      },
      "text/plain": [
       "  0%|          | 0/8444 [00:00<?, ?it/s]"
      ]
     },
     "metadata": {},
     "output_type": "display_data"
    }
   ],
   "source": [
    "folderName = ['test', 'train']\n",
    "datasetPath = '../D-Fire/'\n",
    "for name in tqdm(folderName):\n",
    "    labelsPath = os.path.join(datasetPath, '{}/labels/'.format(name))\n",
    "    \n",
    "    imagesPath = os.path.join(datasetPath, '{}/images/'.format(name))\n",
    "    txtPath = os.path.join(datasetPath, '{}_0_list.txt'.format(name))\n",
    "    with open(txtPath, 'r') as f:\n",
    "        txtRead = [x.strip() for x in f.readlines()]\n",
    "\n",
    "    for image in tqdm(txtRead):\n",
    "        labelPath = os.path.join(labelsPath, '{}.txt'.format(image))\n",
    "        \n",
    "        imagePath = os.path.join(imagesPath, '{}.jpg'.format(image))\n",
    "        imageArray = plt.imread(imagePath)\n",
    "        imageWidth = imageArray.shape[1]\n",
    "        imageHeight = imageArray.shape[0]\n",
    "        with open(labelPath, 'r') as f:\n",
    "            labelRead = [x.strip() for x in f.readlines()]\n",
    "\n",
    "        for idx, line in enumerate(labelRead):\n",
    "            label = int(line[0])\n",
    "            if label == 0:\n",
    "                bbox = line.split(' ')[1:]\n",
    "                bbox = np.array(bbox, dtype = np.float64)\n",
    "                # yolo -> pascal\n",
    "                bbox = yolo_to_pascal(bbox, imageWidth, imageHeight)\n",
    "                callBack = checkCoordinate(bbox, pascalFormat=True, \n",
    "                                          imageWidth=imageWidth, imageHeight=imageHeight)\n",
    "                if callBack is not None:\n",
    "                    print(labelPath)\n",
    "                    print(\"wrong label index: {}\".format(idx+1))\n",
    "                    print(\"wrong label: {}\".format(callBack))\n",
    "                    print(\"----------------------------------------------------------------------\")"
   ]
  },
  {
   "cell_type": "markdown",
   "id": "5b522f8e-601e-426b-a388-33a1dd974cc8",
   "metadata": {},
   "source": [
    "# mix txt\n",
    "\n",
    "mix test_0_list.txt with test_1_list.txt  \n",
    "mix train_0_list.txt with train_1_list.txt  "
   ]
  },
  {
   "cell_type": "raw",
   "id": "6227b615-93df-4e8c-b65c-4cc839e222d9",
   "metadata": {},
   "source": [
    "floder structure:  \n",
    "\n",
    "|---D-Fire\n",
    "    |---D-Fire\n",
    "    |   |---test\n",
    "    |   |   |---images(*.jpg)\n",
    "    |   |   |---labels(*.txt)\n",
    "    |   |---train\n",
    "    |   |   |---images(*.jpg) \n",
    "    |   |   |---labels(*.txt)\n",
    "    |   |---test_1_list.txt\n",
    "    |   |---train_1_list.txt\n",
    "    |   |---test_0_list.txt\n",
    "    |   |---train_0_list.txt\n",
    "    |   |---test_list.txt\n",
    "    |   |---train_list.txt\n",
    "    |---Tools"
   ]
  },
  {
   "cell_type": "code",
   "execution_count": 4,
   "id": "0f3d4f66-27ce-4508-b97c-651498f9f0c4",
   "metadata": {},
   "outputs": [
    {
     "data": {
      "application/vnd.jupyter.widget-view+json": {
       "model_id": "15ec0fcf81ea4762b3be9041ef98be71",
       "version_major": 2,
       "version_minor": 0
      },
      "text/plain": [
       "  0%|          | 0/2 [00:00<?, ?it/s]"
      ]
     },
     "metadata": {},
     "output_type": "display_data"
    },
    {
     "data": {
      "application/vnd.jupyter.widget-view+json": {
       "model_id": "d828a76e16db4cbcbc3e3afffc75ef9e",
       "version_major": 2,
       "version_minor": 0
      },
      "text/plain": [
       "  0%|          | 0/2 [00:00<?, ?it/s]"
      ]
     },
     "metadata": {},
     "output_type": "display_data"
    },
    {
     "data": {
      "application/vnd.jupyter.widget-view+json": {
       "model_id": "0622c8b736d5485586308215d2bb471e",
       "version_major": 2,
       "version_minor": 0
      },
      "text/plain": [
       "  0%|          | 0/2081 [00:00<?, ?it/s]"
      ]
     },
     "metadata": {},
     "output_type": "display_data"
    },
    {
     "data": {
      "application/vnd.jupyter.widget-view+json": {
       "model_id": "77e757d7335542eeb82982ac64d76487",
       "version_major": 2,
       "version_minor": 0
      },
      "text/plain": [
       "  0%|          | 0/1115 [00:00<?, ?it/s]"
      ]
     },
     "metadata": {},
     "output_type": "display_data"
    },
    {
     "data": {
      "application/vnd.jupyter.widget-view+json": {
       "model_id": "d6b6f44a9b9d4f129ecbb20709b8de6f",
       "version_major": 2,
       "version_minor": 0
      },
      "text/plain": [
       "  0%|          | 0/2 [00:00<?, ?it/s]"
      ]
     },
     "metadata": {},
     "output_type": "display_data"
    },
    {
     "data": {
      "application/vnd.jupyter.widget-view+json": {
       "model_id": "0d8a92ad5506470db6f0a84aed7a5742",
       "version_major": 2,
       "version_minor": 0
      },
      "text/plain": [
       "  0%|          | 0/8444 [00:00<?, ?it/s]"
      ]
     },
     "metadata": {},
     "output_type": "display_data"
    },
    {
     "data": {
      "application/vnd.jupyter.widget-view+json": {
       "model_id": "7f6684b877be4a42a60c68bf8129efc4",
       "version_major": 2,
       "version_minor": 0
      },
      "text/plain": [
       "  0%|          | 0/4707 [00:00<?, ?it/s]"
      ]
     },
     "metadata": {},
     "output_type": "display_data"
    }
   ],
   "source": [
    "folderName = ['test', 'train']\n",
    "datasetPath = '../D-Fire/'\n",
    "test_list = []\n",
    "train_list = []\n",
    "\n",
    "for name in tqdm(folderName):\n",
    "    for label in tqdm([0, 1]):\n",
    "        txtName = '{}_{}_list.txt'.format(name, label)\n",
    "        txtPath = os.path.join(datasetPath, txtName)\n",
    "        with open(txtPath, 'r') as f:\n",
    "            txtRead = [x.strip() for x in f.readlines()]\n",
    "\n",
    "        for image in tqdm(txtRead):\n",
    "            if image not in eval('{}_list'.format(name)):\n",
    "                eval('{}_list'.format(name)).append(image)\n",
    "\n",
    "    savePath = os.path.join(datasetPath, '{}_list.txt'.format(name))\n",
    "    with open(savePath, 'w') as f:\n",
    "        for image in eval('{}_list'.format(name)):\n",
    "            f.write('{}\\n'.format(image))"
   ]
  },
  {
   "cell_type": "markdown",
   "id": "fbbebc01-76c6-436a-b815-cbf43bd30bba",
   "metadata": {},
   "source": [
    "# make XML file\n",
    "\n",
    "load image name in test_list.txt and train_list.txt"
   ]
  },
  {
   "cell_type": "raw",
   "id": "81d7cb87-f3b8-4ff5-bd7c-bb06a3849ed6",
   "metadata": {},
   "source": [
    "floder structure:  \n",
    "\n",
    "|---D-Fire\n",
    "    |---D-Fire\n",
    "    |   |---Annotations(*.xml)\n",
    "    |   |---test\n",
    "    |   |   |---images(*.jpg)\n",
    "    |   |   |---labels(*.txt)\n",
    "    |   |---train\n",
    "    |   |   |---images(*.jpg) \n",
    "    |   |   |---labels(*.txt)\n",
    "    |   |---test_1_list.txt\n",
    "    |   |---train_1_list.txt\n",
    "    |   |---test_0_list.txt\n",
    "    |   |---train_0_list.txt\n",
    "    |   |---test_list.txt\n",
    "    |   |---train_list.txt\n",
    "    |---Tools"
   ]
  },
  {
   "cell_type": "code",
   "execution_count": 2,
   "id": "4c02c6cb-cc53-40f6-9bcb-43f06285542d",
   "metadata": {},
   "outputs": [
    {
     "data": {
      "application/vnd.jupyter.widget-view+json": {
       "model_id": "f31b299b0bcd46ff9579f4e4fb39ec15",
       "version_major": 2,
       "version_minor": 0
      },
      "text/plain": [
       "  0%|          | 0/2 [00:00<?, ?it/s]"
      ]
     },
     "metadata": {},
     "output_type": "display_data"
    },
    {
     "data": {
      "application/vnd.jupyter.widget-view+json": {
       "model_id": "f44733f33f7f4617a2982d658b6fc0e8",
       "version_major": 2,
       "version_minor": 0
      },
      "text/plain": [
       "  0%|          | 0/2301 [00:00<?, ?it/s]"
      ]
     },
     "metadata": {},
     "output_type": "display_data"
    },
    {
     "data": {
      "application/vnd.jupyter.widget-view+json": {
       "model_id": "105110ad528d4b6497307d71c9422ab3",
       "version_major": 2,
       "version_minor": 0
      },
      "text/plain": [
       "  0%|          | 0/9388 [00:00<?, ?it/s]"
      ]
     },
     "metadata": {},
     "output_type": "display_data"
    }
   ],
   "source": [
    "folderName = ['test', 'train']\n",
    "datasetPath = '../D-Fire/'\n",
    "xmlFolderPath = os.path.join(datasetPath, 'Annotations/')\n",
    "if not os.path.exists(xmlFolderPath):\n",
    "    os.mkdir(xmlFolderPath)\n",
    "\n",
    "for name in tqdm(folderName):\n",
    "    imagesPath = os.path.join(datasetPath, '{}/images/'.format(name))\n",
    "    labelsPath = os.path.join(datasetPath, '{}/labels/'.format(name))\n",
    "    imageListPath = os.path.join(datasetPath, '{}_list.txt'.format(name))\n",
    "    with open(imageListPath, 'r') as f:\n",
    "        imageList = [x.strip() for x in f.readlines()]\n",
    "\n",
    "    for image in tqdm(imageList):\n",
    "        imagePath = os.path.join(imagesPath, '{}.jpg'.format(image))\n",
    "        imageArray = plt.imread(imagePath)\n",
    "        imageWidth = imageArray.shape[1]\n",
    "        imageHeight = imageArray.shape[0]\n",
    "        xmlPath = os.path.join(xmlFolderPath, '{}.xml'.format(image))\n",
    "        txtPath = os.path.join(labelsPath, '{}.txt'.format(image))\n",
    "        with open(txtPath, 'r') as f:\n",
    "            txtRead = [x.strip() for x in f.readlines()]\n",
    "        # init xml\n",
    "        if not os.path.exists(xmlPath):\n",
    "            # image width, image height are unified\n",
    "            init_xml(xmlPath, 'D-Fire', image, 'D-Fire_fire_detection', imageWidth=640, imageHeight=480)\n",
    "        for object in txtRead:\n",
    "            objectClass = int(object[0])\n",
    "            yolobbox = [float(x) for x in object.split(' ')[1:]]\n",
    "            yolobbox = np.array(yolobbox, dtype=np.float64)\n",
    "            pascalbbox = yolo_to_pascal(yolobbox, imageWidth=imageWidth, imageHeight=imageHeight)\n",
    "            widthRatio = float(640 / imageWidth)\n",
    "            heightRatio = float(480 / imageHeight)\n",
    "            bboxResized = bbox_resize(pascalbbox, widthRatio=widthRatio, heightRatio=heightRatio)\n",
    "            # parse xml file\n",
    "            tree = ET.parse(xmlPath)\n",
    "            if objectClass == 0:\n",
    "                add_object(tree, bboxResized, 'smoke')\n",
    "                tree.write(xmlPath)\n",
    "            else:\n",
    "                add_object(tree, bboxResized, 'fire')\n",
    "                tree.write(xmlPath)\n",
    "    \n",
    "        # reshape xml\n",
    "        root = tree.getroot()\n",
    "        prettyXml(root, '\\t', '\\n')\n",
    "        # save\n",
    "        tree.write(xmlPath)"
   ]
  },
  {
   "cell_type": "markdown",
   "id": "5abe390a-3f85-4ce9-afe6-c9c28cc550ab",
   "metadata": {},
   "source": [
    "# generate ImageSets and JPEGImages floders\n",
    "\n",
    "## make JPEGImages\n",
    "\n",
    "copy images after reshaping into JPEGImages foldes"
   ]
  },
  {
   "cell_type": "raw",
   "id": "3f1f3ea8-2aec-4cb5-8c95-972104ecef9e",
   "metadata": {},
   "source": [
    "floder structure:  \n",
    "\n",
    "|---D-Fire\n",
    "    |---D-Fire\n",
    "    |   |---Annotations(*.xml)\n",
    "    |   |---ImageSets\n",
    "    |   |   |---Main\n",
    "    |   |       |---test.txt\n",
    "    |   |       |---train.txt\n",
    "    |   |---JPEFImages(*.jpg)\n",
    "    |   |---test\n",
    "    |   |   |---images(*.jpg)\n",
    "    |   |   |---labels(*.txt)\n",
    "    |   |---train\n",
    "    |   |   |---images(*.jpg) \n",
    "    |   |   |---labels(*.txt)\n",
    "    |   |---test_1_list.txt\n",
    "    |   |---train_1_list.txt\n",
    "    |   |---test_0_list.txt\n",
    "    |   |---train_0_list.txt\n",
    "    |   |---test_list.txt\n",
    "    |   |---train_list.txt\n",
    "    |---Tools"
   ]
  },
  {
   "cell_type": "code",
   "execution_count": 3,
   "id": "58b4e635-f7d3-43f4-b24d-fadc2b33ccc7",
   "metadata": {},
   "outputs": [
    {
     "data": {
      "application/vnd.jupyter.widget-view+json": {
       "model_id": "9e4cbf51cb7f4756ac84ecc66e59ad5f",
       "version_major": 2,
       "version_minor": 0
      },
      "text/plain": [
       "  0%|          | 0/2 [00:00<?, ?it/s]"
      ]
     },
     "metadata": {},
     "output_type": "display_data"
    },
    {
     "data": {
      "application/vnd.jupyter.widget-view+json": {
       "model_id": "a7c6509eb8c6465fade2073b7fb1b83e",
       "version_major": 2,
       "version_minor": 0
      },
      "text/plain": [
       "  0%|          | 0/2301 [00:00<?, ?it/s]"
      ]
     },
     "metadata": {},
     "output_type": "display_data"
    },
    {
     "data": {
      "application/vnd.jupyter.widget-view+json": {
       "model_id": "ae25b13b81af4731bc174f11a28ad84c",
       "version_major": 2,
       "version_minor": 0
      },
      "text/plain": [
       "  0%|          | 0/9388 [00:00<?, ?it/s]"
      ]
     },
     "metadata": {},
     "output_type": "display_data"
    }
   ],
   "source": [
    "folderName = ['test', 'train']\n",
    "datasetPath = '../D-Fire/'\n",
    "\n",
    "jpegimagesPath = os.path.join(datasetPath, 'JPEGImages/')\n",
    "# make JPEGImages folder\n",
    "if not os.path.exists(jpegimagesPath):\n",
    "    os.mkdir(jpegimagesPath)\n",
    "\n",
    "for name in tqdm(folderName):\n",
    "    imagesPath = os.path.join(datasetPath, '{}/images/'.format(name))\n",
    "    imageListPath = os.path.join(datasetPath, '{}_list.txt'.format(name))\n",
    "    with open(imageListPath, 'r') as f:\n",
    "        imageList = [x.strip() for x in f.readlines()]\n",
    "        \n",
    "    for image in tqdm(imageList):\n",
    "        savePath = os.path.join(jpegimagesPath, '{}.jpg'.format(image))\n",
    "        if not os.path.exists(savePath):\n",
    "            imagePath = os.path.join(imagesPath, '{}.jpg'.format(image))\n",
    "            imageArray = cv2.imread(imagePath)\n",
    "            imageResized = cv2.resize(imageArray, (640, 480))\n",
    "            cv2.imwrite(savePath, imageResized)"
   ]
  },
  {
   "cell_type": "markdown",
   "id": "4a91b768-e7a6-47b6-bb11-c88d2f85ccc9",
   "metadata": {},
   "source": [
    "## make ImageSets\n",
    "\n",
    "loading all image names, distribute them into trainset(70%) and testset(30%)"
   ]
  },
  {
   "cell_type": "code",
   "execution_count": 68,
   "id": "9a7736c6-1b25-44cd-8184-2edd2f8d6268",
   "metadata": {},
   "outputs": [],
   "source": [
    "folderName = ['test', 'train']\n",
    "datasetPath = '../D-Fire/'\n",
    "ImageSetsPath = os.path.join(datasetPath, 'ImageSets/Main/')\n",
    "\n",
    "allImage = []\n",
    "\n",
    "for name in folderName:\n",
    "    imageListPath = os.path.join(datasetPath, '{}_list.txt'.format(name))\n",
    "    with open(imageListPath, 'r') as f:\n",
    "        imageList = [x.strip() for x in f.readlines()]\n",
    "\n",
    "    for image in imageList:\n",
    "        allImage.append(image)\n",
    "\n",
    "allImage = np.array(allImage)\n",
    "\n",
    "testSize = int(len(allImage) * 0.3)\n",
    "# shuffle\n",
    "np.random.shuffle(allImage)\n",
    "# sample\n",
    "testIndex = random.sample(range(len(allImage)), testSize)\n",
    "testList = allImage[np.array(testIndex)]\n",
    "trainList = [item for item in allImage if item not in testList]\n",
    "# save\n",
    "trainTxtPath = os.path.join(ImageSetsPath, 'trainval.txt')\n",
    "testTxtPath = os.path.join(ImageSetsPath, 'test.txt')\n",
    "\n",
    "with open(trainTxtPath, 'w') as f:\n",
    "    for image in trainList:\n",
    "        f.write('{}\\n'.format(image))\n",
    "\n",
    "with open(testTxtPath, 'w') as f:\n",
    "    for image in testList:\n",
    "        f.write('{}\\n'.format(image))"
   ]
  }
 ],
 "metadata": {
  "kernelspec": {
   "display_name": "pytorch2.2.1",
   "language": "python",
   "name": "jupyterkernelfile_pytorch2.2.1"
  },
  "language_info": {
   "codemirror_mode": {
    "name": "ipython",
    "version": 3
   },
   "file_extension": ".py",
   "mimetype": "text/x-python",
   "name": "python",
   "nbconvert_exporter": "python",
   "pygments_lexer": "ipython3",
   "version": "3.10.13"
  }
 },
 "nbformat": 4,
 "nbformat_minor": 5
}
