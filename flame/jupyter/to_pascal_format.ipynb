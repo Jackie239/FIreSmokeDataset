{
 "cells": [
  {
   "cell_type": "code",
   "execution_count": 1,
   "id": "0c7e3098-58be-4569-8c44-f81a7d993930",
   "metadata": {},
   "outputs": [],
   "source": [
    "import os\n",
    "import numpy as np\n",
    "from tqdm.notebook import tqdm\n",
    "import xml.etree.ElementTree as ET\n",
    "import cv2\n",
    "import random\n",
    "\n",
    "from xmlMaker import init_xml\n",
    "from bbox import bbox_resize\n",
    "from xmlMaker import add_object\n",
    "from xmlMaker import prettyXml\n",
    "from bbox import caculate_area\n",
    "from bbox import filter_overlapping_boxes"
   ]
  },
  {
   "cell_type": "markdown",
   "id": "cda5f699-629a-4276-8687-6bf2fade617a",
   "metadata": {},
   "source": [
    "# make XML file\n",
    "\n",
    "load bounding boxes in txt to generate xml file"
   ]
  },
  {
   "cell_type": "raw",
   "id": "965a89a3-6325-4728-bf34-ed1b1b36ce49",
   "metadata": {},
   "source": [
    "folder structure:\n",
    "\n",
    "|---flame\n",
    "    |---Images(*.jpg)\n",
    "    |---labels(*.txt)\n",
    "\n",
    "annotation format in labels/*.txt:\n",
    "[xmin, ymin, xmax, ymax]"
   ]
  },
  {
   "cell_type": "code",
   "execution_count": 3,
   "id": "e1317903-c4ef-4211-8784-5c3ca064ced4",
   "metadata": {},
   "outputs": [
    {
     "data": {
      "application/vnd.jupyter.widget-view+json": {
       "model_id": "501ac8402ccc4ed6adf8cc3d422b8aaf",
       "version_major": 2,
       "version_minor": 0
      },
      "text/plain": [
       "  0%|          | 0/2003 [00:00<?, ?it/s]"
      ]
     },
     "metadata": {},
     "output_type": "display_data"
    }
   ],
   "source": [
    "xmlFolderPath = os.path.join('../', 'Annotations/')\n",
    "if not os.path.exists(xmlFolderPath):\n",
    "    os.mkdir(xmlFolderPath)\n",
    "\n",
    "widthRatio = 640.0 / 3840.0\n",
    "heightRatio = 480.0 / 2160.0\n",
    "# before resize\n",
    "areaThreshold = 32 / widthRatio / heightRatio\n",
    "\n",
    "labelsPath = '../labels/'\n",
    "labelList = os.listdir(labelsPath)\n",
    "\n",
    "for image in tqdm(labelList):\n",
    "    imageName = image.split('.')[0]\n",
    "    xmlPath = os.path.join(xmlFolderPath, '{}.xml'.format(imageName))\n",
    "    txtPath = os.path.join(labelsPath, image)\n",
    "    \n",
    "    with open(txtPath, 'r') as f:\n",
    "        txtRead = [x.strip()[1:-1]for x in f.readlines()]\n",
    "    \n",
    "    bboxes = [x.split() for x in txtRead]\n",
    "    bboxes = np.array(bboxes).astype(np.int64)\n",
    "            \n",
    "    # init xml\n",
    "    if not os.path.exists(xmlPath):\n",
    "        init_xml(xmlPath, 'flame', imageName, 'flame_fire_detection', \n",
    "                imageWidth=640, imageHeight=480)\n",
    "\n",
    "    # delete small area bboxes\n",
    "    area = caculate_area(bboxes)\n",
    "    mask = area > areaThreshold\n",
    "    tmpeBboxes = bboxes[mask]\n",
    "    # delete repetitive bboxes\n",
    "    bboxesSelected = filter_overlapping_boxes(tmpeBboxes)\n",
    "    \n",
    "    for bbox in bboxesSelected:\n",
    "        bboxResized = bbox_resize(bbox, widthRatio=widthRatio, heightRatio=heightRatio)\n",
    "        # parse xml file\n",
    "        tree = ET.parse(xmlPath)\n",
    "        add_object(tree, bboxResized, 'fire')\n",
    "        # reshape xml\n",
    "        root = tree.getroot()\n",
    "        prettyXml(root, '\\t', '\\n')\n",
    "        # save\n",
    "        tree.write(xmlPath)"
   ]
  },
  {
   "cell_type": "markdown",
   "id": "fc0d6647-0180-4b45-8a08-94829e9d31f2",
   "metadata": {},
   "source": [
    "# generate ImageSets and JPEGImages floders\n",
    "\n",
    "## make JPEGImages\n",
    "\n",
    "copy images after reshaping into JPEGImages foldes"
   ]
  },
  {
   "cell_type": "raw",
   "id": "cee4f6a3-9a2b-4255-ae4e-9502216be9df",
   "metadata": {},
   "source": [
    "folder structure:\n",
    "\n",
    "|---flame\n",
    "    |---Annotations(*.xml)\n",
    "    |---Images(*.jpg)\n",
    "    |---labels(*.txt)"
   ]
  },
  {
   "cell_type": "code",
   "execution_count": 5,
   "id": "21644470-39f8-40c9-8333-fed3de3c5aff",
   "metadata": {},
   "outputs": [
    {
     "data": {
      "application/vnd.jupyter.widget-view+json": {
       "model_id": "c61892c9277f4f7cb1c85be6864cd840",
       "version_major": 2,
       "version_minor": 0
      },
      "text/plain": [
       "  0%|          | 0/2003 [00:00<?, ?it/s]"
      ]
     },
     "metadata": {},
     "output_type": "display_data"
    }
   ],
   "source": [
    "jpegimagesPath = '../JPEGImages/'\n",
    "# make JPEGImages folder\n",
    "if not os.path.exists(jpegimagesPath):\n",
    "    os.mkdir(jpegimagesPath)\n",
    "\n",
    "labelsPath = '../labels/'\n",
    "labelList = os.listdir(labelsPath)\n",
    "\n",
    "for image in tqdm(labelList):\n",
    "    imageName = image.split('.')[0]\n",
    "    imagePath = '../images/{}.jpg'.format(imageName)\n",
    "    savePath = os.path.join(jpegimagesPath, '{}.jpg'.format(imageName))\n",
    "    if not os.path.exists(savePath):\n",
    "        imageArray = cv2.imread(imagePath)\n",
    "        imageResized = cv2.resize(imageArray, (640, 480))\n",
    "        cv2.imwrite(savePath, imageResized)"
   ]
  },
  {
   "cell_type": "markdown",
   "id": "82daeac4-8154-4718-8c0c-3ba2d1426117",
   "metadata": {},
   "source": [
    "## make ImageSets\n",
    "\r\n",
    "loading all image names, distribute them into trainset(70%) and testset(30%)"
   ]
  },
  {
   "cell_type": "raw",
   "id": "81526b3f-952d-4a1a-838f-6957d224555d",
   "metadata": {},
   "source": [
    "folder structure:\n",
    "\n",
    "|---flame\n",
    "    |---Annotations(*.xml)\n",
    "    |---JPEGImages(*.jpg)\n",
    "    |---Images(*.jpg)\n",
    "    |---labels(*.txt)"
   ]
  },
  {
   "cell_type": "code",
   "execution_count": 10,
   "id": "543c2bba-acb4-4d1d-b9d8-7cc71330cc2b",
   "metadata": {},
   "outputs": [],
   "source": [
    "labelsPath = '../labels/'\n",
    "\n",
    "allImage = [x.split('.')[0] for x in os.listdir(labelsPath)]\n",
    "\n",
    "imageSetsPath = '../ImageSets/Main/'\n",
    "# make ImageSetsPath folder\n",
    "if not os.path.exists(imageSetsPath):\n",
    "    os.makedirs(imageSetsPath)\n",
    "    \n",
    "allImage = np.array(allImage)\n",
    "\n",
    "testSize = int(len(allImage) * 0.3)\n",
    "# shuffle\n",
    "np.random.shuffle(allImage)\n",
    "# sample\n",
    "testIndex = random.sample(range(len(allImage)), testSize)\n",
    "testList = allImage[np.array(testIndex)]\n",
    "trainList = [item for item in allImage if item not in testList]\n",
    "# save\n",
    "trainTxtPath = os.path.join(imageSetsPath, 'trainval.txt')\n",
    "testTxtPath = os.path.join(imageSetsPath, 'test.txt')\n",
    "\n",
    "with open(trainTxtPath, 'w') as f:\n",
    "    for image in trainList:\n",
    "        f.write('{}\\n'.format(image))\n",
    "\n",
    "with open(testTxtPath, 'w') as f:\n",
    "    for image in testList:\n",
    "        f.write('{}\\n'.format(image))"
   ]
  }
 ],
 "metadata": {
  "kernelspec": {
   "display_name": "pytorch2.2.1",
   "language": "python",
   "name": "jupyterkernelfile_pytorch2.2.1"
  },
  "language_info": {
   "codemirror_mode": {
    "name": "ipython",
    "version": 3
   },
   "file_extension": ".py",
   "mimetype": "text/x-python",
   "name": "python",
   "nbconvert_exporter": "python",
   "pygments_lexer": "ipython3",
   "version": "3.10.13"
  }
 },
 "nbformat": 4,
 "nbformat_minor": 5
}
