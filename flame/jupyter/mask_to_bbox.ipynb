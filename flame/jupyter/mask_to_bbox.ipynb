{
 "cells": [
  {
   "cell_type": "code",
   "execution_count": 16,
   "id": "97981687-7690-4f15-b66f-6f7685c33978",
   "metadata": {},
   "outputs": [],
   "source": [
    "import os\n",
    "import cv2\n",
    "import numpy as np\n",
    "from tqdm.notebook import tqdm \n",
    "from skimage.measure import label, regionprops"
   ]
  },
  {
   "cell_type": "code",
   "execution_count": 17,
   "id": "6b9790ac-9157-48c2-b1ad-9871b481c000",
   "metadata": {},
   "outputs": [
    {
     "data": {
      "application/vnd.jupyter.widget-view+json": {
       "model_id": "597511df67f24f81ac1cff699661671f",
       "version_major": 2,
       "version_minor": 0
      },
      "text/plain": [
       "  0%|          | 0/2003 [00:00<?, ?it/s]"
      ]
     },
     "metadata": {},
     "output_type": "display_data"
    }
   ],
   "source": [
    "masksPath = '../Masks/'\n",
    "maskList = os.listdir(masksPath)\n",
    "\n",
    "labelsPath = '../labels'\n",
    "\n",
    "if not os.path.exists(labelsPath):\n",
    "    os.mkdir(labelsPath)\n",
    "\n",
    "for mask in tqdm(maskList):\n",
    "\n",
    "    maskName = mask.split('.')[0]\n",
    "    \n",
    "    maskPath = os.path.join(masksPath, mask)\n",
    "    maskArray = cv2.imread(maskPath)\n",
    "    \n",
    "    lbl = label(maskArray)\n",
    "    props = regionprops(lbl)\n",
    "\n",
    "    #init\n",
    "    bbox = np.zeros((len(props), 4)).astype(np.int16)\n",
    "    tmpe = [0, 0, 0, 0]\n",
    "    \n",
    "    for idx, prop in enumerate(props):\n",
    "        tmpe[0] = prop.bbox[1]\n",
    "        tmpe[1] = prop.bbox[0]\n",
    "        tmpe[2] = prop.bbox[4]\n",
    "        tmpe[3] = prop.bbox[3]\n",
    "        bbox[idx] = tmpe\n",
    "    \n",
    "    \n",
    "    savePath = os.path.join(labelsPath, '{}.txt'.format(maskName))\n",
    "\n",
    "    with open(savePath, 'w') as f:\n",
    "        for object in bbox :\n",
    "            f.write('{}\\n'.format(object))"
   ]
  }
 ],
 "metadata": {
  "kernelspec": {
   "display_name": "pytorch2.2.1",
   "language": "python",
   "name": "jupyterkernelfile_pytorch2.2.1"
  },
  "language_info": {
   "codemirror_mode": {
    "name": "ipython",
    "version": 3
   },
   "file_extension": ".py",
   "mimetype": "text/x-python",
   "name": "python",
   "nbconvert_exporter": "python",
   "pygments_lexer": "ipython3",
   "version": "3.10.13"
  }
 },
 "nbformat": 4,
 "nbformat_minor": 5
}
