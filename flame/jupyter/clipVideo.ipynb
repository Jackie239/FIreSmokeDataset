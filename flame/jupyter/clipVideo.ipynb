{
 "cells": [
  {
   "cell_type": "code",
   "execution_count": 14,
   "id": "80cc185e-f82e-4568-bdee-c93d4b672f54",
   "metadata": {},
   "outputs": [
    {
     "data": {
      "application/vnd.jupyter.widget-view+json": {
       "model_id": "513cb2fe8a09483eae67032a20dac7ed",
       "version_major": 2,
       "version_minor": 0
      },
      "text/plain": [
       "0it [00:00, ?it/s]"
      ]
     },
     "metadata": {},
     "output_type": "display_data"
    }
   ],
   "source": [
    "import cv2\n",
    "import imageio\n",
    "from tqdm.notebook import tqdm\n",
    "import matplotlib.pylab as plt\n",
    "\n",
    "\n",
    "videoPath = '../2-Zenmuse_X4S_2.mp4'\n",
    "# Read the video\n",
    "reader = imageio.get_reader(videoPath)\n",
    "# original fps\n",
    "fps = reader.get_meta_data()['fps']\n",
    "# specific fps\n",
    "# fps = 30\n",
    "# Create a writer object\n",
    "writer = imageio.get_writer('../cropped_video.mp4', fps=fps)\n",
    "\n",
    "# Define the crop size\n",
    "crop_width, crop_height = 960, 720\n",
    "\n",
    "for i, frame in tqdm(enumerate(reader)):\n",
    "    # Get frame dimensions\n",
    "    h, w, _ = frame.shape\n",
    "    \n",
    "    # Calculate the cropping coordinates\n",
    "    start_x = w // 2 - crop_width // 2\n",
    "    start_y = h // 2 - crop_height // 2\n",
    "    \n",
    "    # Crop the frame\n",
    "    cropped_frame = frame[start_y:start_y + crop_height, start_x:start_x + crop_width]\n",
    "    \n",
    "    # Write the frame to the output file\n",
    "    writer.append_data(cropped_frame)\n",
    "\n",
    "writer.close()"
   ]
  },
  {
   "cell_type": "markdown",
   "id": "4ed05c71-1710-4605-9d12-443ae85ccca3",
   "metadata": {},
   "source": [
    "fps = 30: 47961"
   ]
  },
  {
   "cell_type": "code",
   "execution_count": null,
   "id": "c82a3f0e-0e17-4aae-8860-5f37d1a14116",
   "metadata": {},
   "outputs": [],
   "source": []
  }
 ],
 "metadata": {
  "kernelspec": {
   "display_name": "pytorch2.2.1",
   "language": "python",
   "name": "jupyterkernelfile_pytorch2.2.1"
  },
  "language_info": {
   "codemirror_mode": {
    "name": "ipython",
    "version": 3
   },
   "file_extension": ".py",
   "mimetype": "text/x-python",
   "name": "python",
   "nbconvert_exporter": "python",
   "pygments_lexer": "ipython3",
   "version": "3.10.13"
  }
 },
 "nbformat": 4,
 "nbformat_minor": 5
}
