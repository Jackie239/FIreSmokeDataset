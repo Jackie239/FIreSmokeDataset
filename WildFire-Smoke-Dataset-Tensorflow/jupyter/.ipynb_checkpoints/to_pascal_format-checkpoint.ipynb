{
 "cells": [
  {
   "cell_type": "code",
   "execution_count": 2,
   "id": "b2211f0e-7cf5-4e78-9db5-261253403abb",
   "metadata": {},
   "outputs": [],
   "source": [
    "import os\n",
    "import numpy as np\n",
    "import xml.etree.ElementTree as ET\n",
    "from tqdm.notebook import tqdm\n",
    "\n",
    "from xmlMaker import init_xml\n",
    "from xmlMaker import add_object\n",
    "from xmlMaker import prettyXml"
   ]
  },
  {
   "cell_type": "markdown",
   "id": "ef99ef47-d2ea-4106-94f5-d06e8cc6cca3",
   "metadata": {},
   "source": [
    "# make XML file"
   ]
  },
  {
   "cell_type": "raw",
   "id": "06d7cf8a-fbee-46b0-aa8d-2c6e1e75805e",
   "metadata": {},
   "source": [
    "folder structure:\n",
    "\n",
    "|---WildFire-Smoke-Dataset-Tensorflow\n",
    "    |---valid(_annotations.scv, *.jpg)\n",
    "    |---train(_annotations.scv, *.jpg)\n",
    "    |---test(_annotations.scv, *.jpg)\n",
    "    |---Tools(*.ipynb)"
   ]
  },
  {
   "cell_type": "code",
   "execution_count": null,
   "id": "98c1148a-c2f9-4c4d-90d7-44da8d268ca0",
   "metadata": {},
   "outputs": [],
   "source": [
    "xmlFolderPath = os.path.join('../', 'Annotations/')\n",
    "if not os.path.exists(xmlFolderPath):\n",
    "    os.mkdir(xmlFolderPath)\n",
    "\n",
    "folderList = ['valid', 'train', 'test']\n",
    "for folderName in tqdm(folderList):\n",
    "    folderPath = '../{}/'.format(folderName)\n",
    "    annotationsPath = os.path.join(folderPath,'_annotations.csv')\n",
    "    with open(annotationsPath, 'r') as f:\n",
    "        csvRead = [x.strip() for x in f.readlines()]\n",
    "\n",
    "    csvRead = csvRead[1:]\n",
    "    for line in tqdm(csvRead):\n",
    "        imageName = line.split('.jpg,')[0]\n",
    "        xmlPath = os.path.join(xmlFolderPath, '{}.xml'.format(imageName))\n",
    "        bbox = line.split('smoke,')[-1]\n",
    "        bbox = [int(x) for x in bbox.split(',')]\n",
    "\n",
    "        # init xml\n",
    "        if not os.path.exists(xmlPath):\n",
    "            init_xml(xmlPath, 'WildFire-Smoke-Dataset-Tensorflow', imageName, \n",
    "                    'WildFire-Smoke-Dataset-Tensorflow_smoke_detection', \n",
    "                    imageWidth=640, imageHeight=480)\n",
    "\n",
    "        # add object info\n",
    "        tree = ET.parse(xmlPath)\n",
    "        add_object(tree, bbox, 'smoke')\n",
    "        # reshape xml\n",
    "        root = tree.getroot()\n",
    "        prettyXml(root, '\\t', '\\n')\n",
    "        # save\n",
    "        tree.write(xmlPath)"
   ]
  }
 ],
 "metadata": {
  "kernelspec": {
   "display_name": "pytorch2.2.1",
   "language": "python",
   "name": "jupyterkernelfile_pytorch2.2.1"
  },
  "language_info": {
   "codemirror_mode": {
    "name": "ipython",
    "version": 3
   },
   "file_extension": ".py",
   "mimetype": "text/x-python",
   "name": "python",
   "nbconvert_exporter": "python",
   "pygments_lexer": "ipython3",
   "version": "3.12.2"
  }
 },
 "nbformat": 4,
 "nbformat_minor": 5
}
